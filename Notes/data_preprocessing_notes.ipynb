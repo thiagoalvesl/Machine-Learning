{
 "cells": [
  {
   "cell_type": "markdown",
   "metadata": {},
   "source": [
    "## The machine Learning Process"
   ]
  },
  {
   "cell_type": "markdown",
   "metadata": {},
   "source": [
    "#### Data Pre-Processing\n",
    "- Import the data\n",
    "- Clean the data \n",
    "- Split into training and test sets\n",
    "\n",
    "#### Modelling\n",
    "- Build the model\n",
    "- Train the model\n",
    "- Make predictions\n",
    "\n",
    "#### Evaluation\n",
    "- Calculate performance metrics\n",
    "- Make a verdict\n"
   ]
  },
  {
   "cell_type": "markdown",
   "metadata": {},
   "source": [
    "## Training Set and Test Set"
   ]
  },
  {
   "cell_type": "markdown",
   "metadata": {},
   "source": [
    "#### Importance of splitting data into training and test sets.\n",
    "\n",
    "- Scenario: Predicting car sale prices (dependent variable) using mileage and age (independent variables).\n",
    "\n",
    "- Dataset: 20 cars provided.\n",
    "\n",
    "#### Data Splitting:\n",
    "\n",
    "- Set aside ~20% of data as the test set (4 cars).\n",
    "- Remaining 80% is the training set.\n",
    "- Model Building: Use the training set to build a linear regression model.\n",
    "\n",
    "#### Test Set Usage:\n",
    "\n",
    "- Apply the model to the test set (cars not used in training).\n",
    "- The model predicts prices for these cars.\n",
    "\n",
    "#### Evaluation:\n",
    "\n",
    "- Compare predicted prices with the actual prices (known in advance).\n",
    "- Assess model performance: Good? Needs improvement?\n",
    "- Key Takeaway: Splitting data ensures the model is evaluated on unseen data, providing a better measure of its real-world performance.\n",
    "\n"
   ]
  },
  {
   "cell_type": "markdown",
   "metadata": {},
   "source": [
    "## Feature Scaling\n"
   ]
  },
  {
   "cell_type": "markdown",
   "metadata": {},
   "source": [
    "\n",
    "#### Key Point\n",
    "- Feature scaling is applied to columns, not rows.\n",
    "\n",
    "#### Types of Scaling\n",
    "- **Normalization:**\n",
    "  - Formula:\n",
    "$$\n",
    "X' = \\frac{X - X_{\\text{min}}}{X_{\\text{max}} - X_{\\text{min}}}\n",
    "\n",
    "$$\n",
    "  - Results in values between 0 and 1.\n",
    "- **Standardization:**\n",
    "  - Formula:\n",
    "$$\n",
    "X' = \\frac{X - \\mu}{\\sigma}\n",
    "\n",
    "$$\n",
    "  - Results in values typically between -3 and 3.\n",
    "\n",
    "#### Example Scenario\n",
    "- **Data:** Annual income and age of three individuals (Blue, Purple, Red).\n",
    "- **Task:** Determine which individual (Blue or Red) is more similar to Purple based on income and age.\n",
    "\n",
    "##### Data Before Scaling\n",
    "- **Blue:** $70,000/year, 45 years old\n",
    "- **Purple:** $60,000/year, 44 years old\n",
    "- **Red:** $52,000/year, 40 years old\n",
    "\n",
    "##### Differences\n",
    "- **Income:** $10,000 (Blue vs. Purple), $8,000 (Purple vs. Red)\n",
    "- **Age:** 1 year (Blue vs. Purple), 4 years (Purple vs. Red)\n",
    "\n",
    "#### Problem Without Scaling\n",
    "- Income differences dominate due to larger numeric values.\n",
    "- May incorrectly group Purple with Red based on income difference, ignoring age difference.\n",
    "\n",
    "#### Importance of Scaling\n",
    "- Ensures that all features are comparable, preventing one feature from dominating others.\n",
    "- Necessary when comparing different units (e.g., dollars vs. years).\n",
    "\n",
    "#### After Applying Normalization\n",
    "- **Outcome:** Values become comparable.\n",
    "- **Result:** Purple is nearly equidistant between Blue and Red after scaling.\n",
    "\n",
    "#### Conclusion\n",
    "- Feature scaling is crucial in tasks like clustering to ensure fair comparison across different features.\n",
    "- This example demonstrates why normalization (or standardization) should be applied before analysis.\n",
    "\n"
   ]
  }
 ],
 "metadata": {
  "language_info": {
   "name": "python"
  }
 },
 "nbformat": 4,
 "nbformat_minor": 2
}
